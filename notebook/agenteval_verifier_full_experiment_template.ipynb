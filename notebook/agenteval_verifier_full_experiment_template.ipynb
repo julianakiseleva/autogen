{
 "cells": [
  {
   "cell_type": "code",
   "execution_count": 1,
   "id": "e15baa60-f814-4952-85f0-b960ba1af985",
   "metadata": {},
   "outputs": [],
   "source": [
    "import autogen\n",
    "import json\n",
    "import os\n",
    "from sentence_transformers import SentenceTransformer\n",
    "import numpy as np\n",
    "from collections import defaultdict\n",
    "import statistics\n",
    "import matplotlib.pyplot as plt\n",
    "import copy\n",
    "import random\n",
    "from scipy import stats\n",
    "import math"
   ]
  },
  {
   "cell_type": "markdown",
   "id": "999791b9-b1d1-4ab0-8433-4abe9d9bd79c",
   "metadata": {},
   "source": [
    "# Parameters (Needs to be configured to the specific task)"
   ]
  },
  {
   "cell_type": "code",
   "execution_count": 2,
   "id": "de757237-d1ed-46eb-bf66-22be2b55dc2c",
   "metadata": {},
   "outputs": [],
   "source": [
    "def read_task_output_file(file_name):\n",
    "    \"\"\"\n",
    "    Read the task output logs\n",
    "    \n",
    "    Args:\n",
    "    - file_name (str): The single log file that wants to get evaluated.\n",
    "    \"\"\"\n",
    "    with open(file_name) as file:\n",
    "        output = json.load(file)\n",
    "    return json.dumps(output, indent=1)"
   ]
  },
  {
   "cell_type": "code",
   "execution_count": 3,
   "id": "d7c548db-ce25-4678-b020-4d259ae5f908",
   "metadata": {},
   "outputs": [],
   "source": [
    "task={'name': 'alfworld',\n",
    "      'description': \"Perform actions and interact with a household to solve a task. At the beginning of your interactions, you will be given the detailed description of the current environment and your goal to accomplish. For each of your turn, you should choose from two actions: \\\"THOUGHT\\\" or \\\"ACTION\\\". If you choose \\\"THOUGHT\\\", you should first think about the current condition and plan for your future actions, and then output your action in this turn. Your output must strictly follow this format:\\\"THOUGHT: your thoughts.\\n\\\" \\\"ACTION: your next action\\n\\\"; If you choose \\\"ACTION\\\", you should directly output the action in this turn. Your output must strictly follow this format:\\\"ACTION: your next action\\n\\\". After each of your turn, the environment will give you immediate feedback based on which you should plan your next few steps. if the envrionment output \\\"Nothing happened\\\", that means the previous action is invalid and you should try more options.\\n Reminder: \\n1. the action must be chosen from the given available actions. Any actions except provided available actions will be regarded as illegal.\\n2. Take the target household immediatly after you find it.\\n3. Reply 'TERMINATE' only under two circumstances: a). The task has given you clear instructions to return 'TERMINATE' b). The task seems insolvable.\\n Here are two examples.\",\n",
    "      'example_task':\"\"\"\n",
    "      \"You are in the middle of a room. Looking quickly around you, you see a cabinet 16, a cabinet 15, a cabinet 14, a cabinet 13, a cabinet 12, a cabinet 11, a cabinet 10, a cabinet 9, a cabinet 8, a cabinet 7, a cabinet 6, a cabinet 5, a cabinet 4, a cabinet 3, a cabinet 2, a cabinet 1, a coffeemachine 1, a countertop 2, a countertop 1, a diningtable 1, a drawer 5, a drawer 4, a drawer 3, a drawer 2, a drawer 1, a fridge 1, a garbagecan 1, a microwave 1, a safe 1, a sinkbasin 1, a stoveburner 4, a stoveburner 3, a stoveburner 2, a stoveburner 1, and a toaster 1.\\nYour task is to: cool some pan and put it in stoveburner.\\n\",\n",
    "      \"THOUGHT: The task is to cool some pan and put it in stoveburner, so i need to first find a pan and cool it. First I need to find a pan. An pan is more likely to appear in stoveburner (1-4), sinkbasin (1), diningtable (1), countertop (1-2), cabinet (1-16), drawer (1-5). I can check one by one, starting with stoveburner 1.\\n ACTION: go to stoveburner 1\\n\",\n",
    "      \"On the stoveburner 1, you see nothing.\\n\",\n",
    "      \"ACTION: go to stoveburner 2\\n\",\n",
    "      \"On the stoveburner 2, you see a pot 1.\\n\",\n",
    "      \"ACTION: go to stoveburner 3\\n\",\n",
    "      \"On the stoveburner 3, you see a pan 1.\\n\",\n",
    "      \"ACTION: take pan 1 from stoveburner 3\\n\",\n",
    "      \"You pick up the pan 1 from the stoveburner 3.\\n\",\n",
    "      \"THOUGHT: Now i have taken the pan 1 with me and i want to cool it using a fridge.\\n ACTION: go to fridge 1\\n\",\n",
    "      \"The fridge 1 is closed.\\n\",\n",
    "      \"ACTION: cool pan 1 with fridge 1\\n\",\n",
    "      \"You cool the pan 1 using the fridge 1.\\n\",\n",
    "      \"THOUGHT: Now that i have a cooled pan, i need to go to a stoveburner and put it on the stoveburner.\\n ACTION: go to stoveburner 1\\n\",\n",
    "      \"On the stoveburner 1, you see nothing.\\n\",\n",
    "      \"ACTION: put pan 1 in/on stoveburner 1\\n\",\n",
    "      \"You put the pan 1 in/on the stoveburner 1.\\nTask success, now reply TERMINATE\\n\",\n",
    "      \"TERMINATE\",\n",
    "      \"TERMINATE\"\n",
    "      \"\"\"}\n",
    "\n",
    "\n",
    "sys_msg=f\"\"\"Task: {task['name']}.\n",
    "Task description: {task['description']}\n",
    "Task example: {task['example_task']}\n",
    "\"\"\""
   ]
  },
  {
   "cell_type": "code",
   "execution_count": 4,
   "id": "c31424e0-c26d-4fe1-9d5f-11b38e870fe9",
   "metadata": {},
   "outputs": [],
   "source": [
    "# parameters, input path and output path\n",
    "num_critic_seeds = 50\n",
    "num_quantifier_seeds = 18\n",
    "critic_agent_output_path_prefix = '../../draft_plots/alfworld/criteria/Alfworld_c-'\n",
    "final_summarized_criteria_output_path = \"final_filtered_criteria.json\"\n",
    "task_logs_input_path = \"../data/multiagent\"\n",
    "quantifier_agent_all_at_once_output_path_prefix = \"quantified_output-\"\n",
    "quantifie_coef_var_plot_output_path = \"mean_coeff_var_comparison.png\"\n",
    "root_path = \"../data\"\n",
    "agents = ['multiagent', 'twoagent']\n",
    "original_examples_output_path = \"original_examples.json\"\n",
    "adversarial_examples_output_path = \"adversarial_examples.json\"\n",
    "adversarial_testing_evaluated_results_output_path = \"adversarial_testing_evaluated_results-\"\n",
    "quantifier_adversarial_testing_plot_output_path = \"adversarial_quantifier_performance.png\""
   ]
  },
  {
   "cell_type": "code",
   "execution_count": 5,
   "id": "09e3efe8-fcc8-48cf-8ed1-77fa4edcb071",
   "metadata": {},
   "outputs": [],
   "source": [
    "# load the original logs (directory might be structured differently)\n",
    "original_test_cases = {}\n",
    "\n",
    "for prefix in os.listdir(task_logs_input_path):\n",
    "    if prefix == '.DS_Store':\n",
    "        continue\n",
    "    for file_name in os.listdir(task_logs_input_path+\"/\"+prefix):\n",
    "        gameid = prefix+\"_\"+file_name\n",
    "        \n",
    "        if file_name.split('.')[-1]=='json':\n",
    "            test_case = read_task_output_file(task_logs_input_path+\"/\"+prefix+'/'+file_name)\n",
    "            original_test_cases[gameid] = test_case"
   ]
  },
  {
   "cell_type": "code",
   "execution_count": 6,
   "id": "18dfcf2f-2351-4427-954f-568ec1a253b3",
   "metadata": {},
   "outputs": [],
   "source": [
    "# Which part of the task output to drop might be different\n",
    "def create_adversarial_samples(text):\n",
    "    original_sample = json.loads(text)\n",
    "    adversarial_sample = []\n",
    "    \n",
    "    for m in original_sample: \n",
    "        if m['role'] == 'assistant':\n",
    "            original_content = m['content']\n",
    "            original_content_list = list(filter(lambda x: len(x) > 0, original_content.split(' ')))                \n",
    "            frac = 0.5 \n",
    "            inds = set(random.sample(list(range(len(original_content_list))), int(frac*len(original_content_list))))\n",
    "            new_content_list = [n for i,n in enumerate(original_content_list) if i not in inds]\n",
    "            new_content = ' '.join(new_content_list)\n",
    "            adversarial_sample.append({'content': new_content, 'role': 'assistant'})\n",
    "        else:\n",
    "            adversarial_sample.append(m)\n",
    "    \n",
    "    return json.dumps(adversarial_sample, indent=2)"
   ]
  },
  {
   "cell_type": "code",
   "execution_count": 7,
   "id": "a04158ef-cb06-4b52-8076-e134dc6ed33d",
   "metadata": {},
   "outputs": [
    {
     "name": "stdout",
     "output_type": "stream",
     "text": [
      "env: AUTOGEN_USE_DOCKER=0\n"
     ]
    }
   ],
   "source": [
    "# LLM API\n",
    "config_list = autogen.config_list_from_json(\n",
    "    \"OAI_CONFIG_LIST\",\n",
    ")\n",
    "\n",
    "%env AUTOGEN_USE_DOCKER=0"
   ]
  },
  {
   "cell_type": "markdown",
   "id": "8538648d-ae5c-44f4-9289-4782b0f94c99",
   "metadata": {},
   "source": [
    "# Checkpoint 1: Run CriticAgent Multiple Times"
   ]
  },
  {
   "cell_type": "code",
   "execution_count": null,
   "id": "603b1e7a-7264-46fa-8df7-4c51a4e26df5",
   "metadata": {},
   "outputs": [],
   "source": [
    "for i in range(num_critic_seeds):\n",
    "        \n",
    "    critic = autogen.AssistantAgent(\n",
    "        name = \"critic\",\n",
    "        llm_config = {\"config_list\": config_list,\"cache_seed\":i},\n",
    "        system_message = \"\"\"You are a helpful assistant. You suggest criteria for evaluating different tasks. They should be dinstinguishable, quantifieable and not redundant.\n",
    "        Convert the evaluation criteria into a dictionary where the keys are the criteria.\n",
    "        The value of each key is a dictionary as follows {\"description\": criteria description , \"accepted_values\": possible accepted inputs for this key}\n",
    "        Make sure the keys are criteria for assessing the given task.  \"accepted_values\" include the acceptable inputs for each key that are fine-grained and preferrably mlti-graded levels. \"description\" includes the criterion description.\n",
    "        Return the dictionary.\"\"\"\n",
    "    )\n",
    "\n",
    "    critic_user = autogen.UserProxyAgent(\n",
    "        name = \"critic_user\",\n",
    "        max_consecutive_auto_reply = 0,  # terminate without auto-reply\n",
    "        human_input_mode = \"NEVER\",\n",
    "    )\n",
    "\n",
    "    gen_criteria = critic_user.initiate_chat(critic, message=sys_msg)\n",
    "    criteria = critic_user.last_message()\n",
    "    with open(critic_agent_output_path_prefix + str(i) + \".json\", \"w\") as cr_file:\n",
    "        crit_dict = json.loads(criteria[\"content\"])\n",
    "        json.dump(crit_dict,cr_file,indent=2)"
   ]
  },
  {
   "cell_type": "markdown",
   "id": "95ffb310-337b-4ec9-be5d-d00471a16ff2",
   "metadata": {},
   "source": [
    "# Checkpoint 2: Generate Summarized Criteria"
   ]
  },
  {
   "cell_type": "code",
   "execution_count": null,
   "id": "89bb6619-aa95-48f2-9d9f-4ce6602e940a",
   "metadata": {},
   "outputs": [],
   "source": [
    "# load data\n",
    "crit_dicts = []\n",
    "\n",
    "for i in range(num_critic_seeds):\n",
    "    with open(critic_agent_output_path_prefix + str(i) + \".json\",'r') as fptr:\n",
    "        criteria = json.load(fptr)\n",
    "        crit_dicts.append(criteria)"
   ]
  },
  {
   "cell_type": "code",
   "execution_count": null,
   "id": "719271f3-695a-4bfa-98ba-53db853d086e",
   "metadata": {},
   "outputs": [],
   "source": [
    "criteria_summarizer_message_base = \"\"\"You are a helpful assistant. You suggest criteria for evaluating different tasks. They should be dinstinguishable, quantifieable and not redundant.\n",
    "A criteria dictionary is a dictionary where the keys are the criteria. \n",
    "The value of each key is a dictionary as follows {\"description\": criteria description , \"accepted_values\": possible accepted inputs for this key}\n",
    "You will be given a list of criteria dictionaries that others have suggested. They will be of varying qualities, and some of them will be synonymous.\n",
    "You should pick the best 25 distinct criteria for the task, and each criterion's corresponding best decription and range of accepted values.\n",
    "Your output should be a criteria dictionary containing the 25 distinct criteria you have picked.\n",
    "Make sure the keys are criteria for assessing the given task.  \"accepted_values\" include the acceptable inputs for each key that are fine-grained and preferrably mlti-graded levels. \"description\" includes the criterion description.\n",
    "Return only the dictionary, and in json format.\"\"\"\n",
    "\n",
    "criteria_summarizer = autogen.AssistantAgent(\n",
    "    name = \"criteria_summarizer\",\n",
    "    llm_config = {\"config_list\": config_list},\n",
    "    system_message = criteria_summarizer_message_base,\n",
    ")"
   ]
  },
  {
   "cell_type": "code",
   "execution_count": null,
   "id": "94d5fa8f-b346-46cf-86b9-20c30815206b",
   "metadata": {},
   "outputs": [],
   "source": [
    "def get_summarized_criteria(crit_dicts):\n",
    "    criteria_summarizer_user = autogen.UserProxyAgent(\n",
    "        name = \"criteria_summarizer_user\",\n",
    "        max_consecutive_auto_reply = 0,  # terminate without auto-reply\n",
    "        human_input_mode = \"NEVER\",\n",
    "    )    \n",
    "\n",
    "    message = f\"\"\"Task: {task[\"name\"]}.\n",
    "Task description: {task[\"description\"]}\n",
    "Suggested criteria: {crit_dict}\n",
    "\"\"\"\n",
    "\n",
    "    criteria_summarizer_user.initiate_chat(criteria_summarizer, message=message)\n",
    "    # return the last received from the criteria summarizer\n",
    "    return criteria_summarizer_user.last_message()[\"content\"]"
   ]
  },
  {
   "cell_type": "code",
   "execution_count": null,
   "id": "10f31fc6-10b3-4417-b875-993b539ed9f7",
   "metadata": {},
   "outputs": [],
   "source": [
    "summarized_criteria_list = []\n",
    "\n",
    "for i in range(len(crit_dicts) // 25):\n",
    "    summarized_criteria_list.append(get_summarized_criteria(crit_dicts[i*25 : (i+1)*25]))\n",
    "\n",
    "final_summarized_criteria = get_summarized_criteria(summarized_criteria_list)"
   ]
  },
  {
   "cell_type": "code",
   "execution_count": null,
   "id": "0ccce38e-895a-41d4-afe5-bb153fd44812",
   "metadata": {},
   "outputs": [],
   "source": [
    "final_summarized_criteria = json.loads(final_summarized_criteria)\n",
    "\n",
    "# convert to a list of words\n",
    "conversion_dict_final = {}\n",
    "for criteria in final_summarized_criteria:\n",
    "    conversion_dict_final[' '.join(criteria.lower().split('_'))] = criteria\n",
    "\n",
    "final_list_of_criteria = list(conversion_dict_final.keys())"
   ]
  },
  {
   "cell_type": "code",
   "execution_count": null,
   "id": "dae9c794-09d5-4eeb-b856-70a1c0642271",
   "metadata": {},
   "outputs": [],
   "source": [
    "# set up synonymous detection\n",
    "def find_synonymous_in_list(word_list, threshold=0.75):\n",
    "    model = SentenceTransformer('paraphrase-MiniLM-L6-v2')  # Load a pre-trained SentenceTransformer model\n",
    "    embeddings = model.encode(word_list, convert_to_tensor=True)  # Compute embeddings for the word list\n",
    "\n",
    "    processed_words = set()\n",
    "    used_in_synonyms = set()\n",
    "    synonymous_dict = {}\n",
    "\n",
    "    for i, word in enumerate(word_list):\n",
    "        if word not in processed_words and word not in used_in_synonyms:\n",
    "            synonymous_list = []\n",
    "            for j, other_word in enumerate(word_list):\n",
    "                if i != j:\n",
    "                    cosine_sim = np.dot(embeddings[i], embeddings[j]) / (np.linalg.norm(embeddings[i]) * np.linalg.norm(embeddings[j]))\n",
    "                    if cosine_sim > threshold:\n",
    "                        synonymous_list.append(other_word)\n",
    "                        used_in_synonyms.add(other_word)\n",
    "            if synonymous_list or word not in synonymous_dict:  # Check if synonymous_list is not empty or word is not already added\n",
    "                synonymous_list = list(set(synonymous_list))  # Remove duplicates from the list\n",
    "                synonymous_list.sort()  # Sort the list to make the output consistent\n",
    "                synonymous_dict[word] = synonymous_list\n",
    "            processed_words.add(word)\n",
    "    \n",
    "    return synonymous_dict"
   ]
  },
  {
   "cell_type": "code",
   "execution_count": null,
   "id": "9283352b-dd96-40a7-95a7-8e2a0604bfc6",
   "metadata": {},
   "outputs": [],
   "source": [
    "synonymous_dict = find_synonymous_in_list(final_list_of_criteria)\n",
    "final_criteria = {}\n",
    "for criteria in synonymous_dict:\n",
    "    final_criteria[criteria] = final_summarized_criteria[conversion_dict_final[criteria]]"
   ]
  },
  {
   "cell_type": "code",
   "execution_count": null,
   "id": "0ffbb0a9-c693-40eb-a2c1-4119abb6ff8a",
   "metadata": {},
   "outputs": [],
   "source": [
    "with open(final_summarized_criteria_output_path, \"w\") as outfile:\n",
    "    json.dump(final_criteria, outfile, indent = 4)"
   ]
  },
  {
   "cell_type": "markdown",
   "id": "7a75cab4-bf54-4012-ab35-ce08b5b3a24e",
   "metadata": {},
   "source": [
    "# Checkpoint 3: Run QuantifierAgent"
   ]
  },
  {
   "cell_type": "code",
   "execution_count": 8,
   "id": "1ac56d40-fe23-4498-87c9-9323dd167edd",
   "metadata": {},
   "outputs": [],
   "source": [
    "# load the criteria\n",
    "with open(final_summarized_criteria_output_path) as crit_file:\n",
    "    criteria = json.load(crit_file)"
   ]
  },
  {
   "cell_type": "code",
   "execution_count": 9,
   "id": "ef184f4c-c6d3-46a0-bb05-41ab61ea9fdd",
   "metadata": {},
   "outputs": [],
   "source": [
    "crit = list(criteria.items())\n",
    "crits = [dict(crit[:len(crit)//2]), dict(crit[len(crit)//2:])]"
   ]
  },
  {
   "cell_type": "code",
   "execution_count": null,
   "id": "66b35844-17d9-455c-b158-4c92df64db8a",
   "metadata": {},
   "outputs": [],
   "source": [
    "def run_quantifier_agent_all_criteria_at_once(num_seeds):\n",
    "    quantifier_message_base = \"\"\"You are a helpful assistant. You quantify the output of different tasks based on the given criteria.\n",
    "    The criterion is given in a dictionary format where each key is a dintinct criteria.\n",
    "    The value of each key is a dictionary as follows {\"description\": criteria description , \"accepted_values\": possible accepted inputs for this key}\n",
    "    You are going to quantify each of the crieria for a given task based on the task decription.\n",
    "    Return a dictionary where the keys are the criteria and the values are the assessed performance based on accepted values for each criteria.\n",
    "    Return only the dictionary as a json format string and nothing else.\"\"\"\n",
    "\n",
    "    for seed in range(num_seeds):\n",
    "        outcome = {}\n",
    "        quantifier = autogen.AssistantAgent(\n",
    "            name = \"quantifier\",\n",
    "            llm_config = {\"config_list\": config_list,\"cache_seed\":seed},\n",
    "            system_message = quantifier_message_base)\n",
    "\n",
    "        for gameid in original_test_cases:\n",
    "            test_case = original_test_cases[gameid]\n",
    "\n",
    "            try:\n",
    "    \n",
    "                original_result = {}\n",
    "    \n",
    "                for crit_dict in crits:\n",
    "                    quantifier_user = autogen.UserProxyAgent(\n",
    "                        name = \"quantifier_user\",\n",
    "                        max_consecutive_auto_reply = 0,  # terminate without auto-reply\n",
    "                        human_input_mode = \"NEVER\",\n",
    "                    )\n",
    "                    cq_results = quantifier_user.initiate_chat(quantifier, message = sys_msg + \\\n",
    "                                                    \"Evaluation dictionary: \" + str(crit_dict) + \"\\n\" + \\\n",
    "                                                    \"actual test case to evaluate: \" + test_case)\n",
    "                    quantified_result = quantifier_user.last_message()[\"content\"]\n",
    "    \n",
    "                    original_output = json.loads(quantified_result)\n",
    "                    for entry in original_output:\n",
    "                        original_result[entry.strip()] = original_output[entry]\n",
    "                                \n",
    "                outcome[gameid] = original_result\n",
    "\n",
    "            except: # happens because token length exceeded expectation\n",
    "                pass\n",
    "                            \n",
    "        # store the evaluated problems\n",
    "        with open(quantifier_agent_all_at_once_output_path_prefix + str(seed) + \".json\",\"w\") as file:\n",
    "            json.dump(outcome,file,indent=2) "
   ]
  },
  {
   "cell_type": "code",
   "execution_count": null,
   "id": "a4c392c7-c032-4435-a163-ca1825b36b87",
   "metadata": {},
   "outputs": [],
   "source": [
    "run_quantifier_agent_all_criteria_at_once(num_quantifier_seeds)"
   ]
  },
  {
   "cell_type": "markdown",
   "id": "56d6be41-411d-4304-80de-9ed522cbbd8d",
   "metadata": {},
   "source": [
    "# Checkpoint 4: Plot QuantifierAgent Coefficient of Variation"
   ]
  },
  {
   "cell_type": "code",
   "execution_count": 10,
   "id": "08785e9f-e693-4ec9-a65f-95fe808ec546",
   "metadata": {},
   "outputs": [
    {
     "name": "stdout",
     "output_type": "stream",
     "text": [
      "defaultdict(<function <lambda> at 0x15f2e6d40>, {'task completion': defaultdict(<class 'int'>, {'0%': 0, '25%': 1, '50%': 2, '75%': 3, '100%': 4}), 'action validity': defaultdict(<class 'int'>, {'three_or_more_illegal': 0, 'two_illegal': 1, 'one_illegal': 2, 'all_legal': 3}), 'thought process': defaultdict(<class 'int'>, {'poor': 0, 'fair': 1, 'good': 2, 'excellent': 3}), 'systematic search': defaultdict(<class 'int'>, {'poor': 0, 'moderate': 1, 'good': 2, 'excellent': 3}), 'interaction flow': defaultdict(<class 'int'>, {'frequent_disruptions': 0, 'some_disruptions': 1, 'smooth': 2}), 'task time': defaultdict(<class 'int'>, {'slow': 0, 'average': 1, 'fast': 2, 'very_fast': 3}), 'planning strategy': defaultdict(<class 'int'>, {'poor': 0, 'fair': 1, 'good': 2, 'excellent': 3}), 'action efficiency': defaultdict(<class 'int'>, {'low': 0, 'moderate': 1, 'high': 2, 'very high': 3}), 'response format': defaultdict(<class 'int'>, {'incorrect': 0, 'partially correct': 1, 'correct': 2}), 'adaptability to feedback': defaultdict(<class 'int'>, {'low': 0, 'moderate': 1, 'high': 2, 'very high': 3}), 'termination judgment': defaultdict(<class 'int'>, {'incorrect': 0, 'partially correct': 1, 'correct': 2}), 'efficiency': defaultdict(<class 'int'>, {'below_average': 0, 'average': 1, 'near_optimal': 2, 'optimal': 3}), 'problem solving': defaultdict(<class 'int'>, {'no_adaptation': 0, 'slow_adaptation': 1, 'moderate_adaptation': 2, 'fast_adaptation': 3}), 'target handling': defaultdict(<class 'int'>, {'poor': 0, 'moderate': 1, 'good': 2, 'excellent': 3}), 'environment understanding': defaultdict(<class 'int'>, {'poor': 0, 'fair': 1, 'good': 2, 'excellent': 3}), 'compliance with instructions': defaultdict(<class 'int'>, {'non-compliant': 0, 'partially compliant': 1, 'compliant': 2}), 'legal actions': defaultdict(<class 'int'>, {'poor': 0, 'below_average': 1, 'average': 2, 'good': 3, 'excellent': 4}), 'target acquisition': defaultdict(<class 'int'>, {'poor': 0, 'fair': 1, 'good': 2, 'excellent': 3}), 'format adherence': defaultdict(<class 'int'>, {'Incorrect format': 0, 'Minor format issues': 1, 'Correct format': 2}), 'problem understanding': defaultdict(<class 'int'>, {'0 - Not understood': 0, '1 - Partially understood': 1, '2 - Adequately understood': 2, '3 - Fully understood': 3}), 'action selection': defaultdict(<class 'int'>, {'0 - Poor selection': 0, '1 - Somewhat acceptable selection': 1, '2 - Good selection': 2, '3 - Optimal selection': 3})})\n"
     ]
    }
   ],
   "source": [
    "# convert accepted value to score\n",
    "level2score = defaultdict(lambda: defaultdict(int))\n",
    "for criterion in criteria:\n",
    "     score = 0\n",
    "     for v in criteria[criterion][\"accepted_values\"]:\n",
    "        level2score[criterion][v] = score\n",
    "        score += 1\n",
    "print(level2score)"
   ]
  },
  {
   "cell_type": "code",
   "execution_count": null,
   "id": "e1fc8937-4d7d-4ec2-aea5-d0a27d3a06f4",
   "metadata": {},
   "outputs": [],
   "source": [
    "def get_coeff_of_variation_from_quantified_output(num_seeds, path_prefix):\n",
    "    results = defaultdict(lambda: defaultdict(list)) # result[criterion][game] gives a list of num_seeds scores for that game \n",
    "    key_errors = defaultdict(int)\n",
    "    \n",
    "    for seed in range(num_seeds):\n",
    "        # Load outcome data for the current seed\n",
    "        with open(path_prefix + str(seed) + \".json\", 'r') as file:\n",
    "            outcome = json.load(file)\n",
    "    \n",
    "            for game in outcome:\n",
    "                gameid = game.strip(\".json\")\n",
    "                quantified_result = outcome[game]\n",
    "\n",
    "                for criterion in quantified_result:\n",
    "                    cleaned_level = quantified_result[criterion].strip(\"'\")\n",
    "                    results[criterion][gameid].append(level2score[criterion][cleaned_level])\n",
    "        \n",
    "    coef_variations = defaultdict(lambda: defaultdict(float))\n",
    "    \n",
    "    for criterion in results:\n",
    "        for game in results[criterion]:\n",
    "            coef_variations[criterion][game] = stats.variation(results[criterion][game])\n",
    "            if math.isnan(coef_variations[criterion][game]):\n",
    "                coef_variations[criterion][game] = 0\n",
    "                \n",
    "    coef_variations_list = {}\n",
    "    for criterion in coef_variations:\n",
    "        coef_variations_list[criterion] = []\n",
    "        for game in coef_variations[criterion]:\n",
    "            coef_variations_list[criterion].append(coef_variations[criterion][game])\n",
    "\n",
    "    mean_coef_variations = {}\n",
    "    for criterion in coef_variations_list:\n",
    "        mean_coef_variations[criterion] = statistics.mean(coef_variations_list[criterion])\n",
    "\n",
    "    return mean_coef_variations"
   ]
  },
  {
   "cell_type": "code",
   "execution_count": null,
   "id": "f2e4d001-e7a4-40df-a95e-e3e6be8b72a2",
   "metadata": {},
   "outputs": [],
   "source": [
    "mean_coef_variations = get_coeff_of_variation_from_quantified_output(num_quantifier_seeds, quantifier_agent_all_at_once_output_path_prefix)"
   ]
  },
  {
   "cell_type": "code",
   "execution_count": null,
   "id": "14a91eaa-5005-4102-80d3-c1d2f84408f3",
   "metadata": {},
   "outputs": [],
   "source": [
    "def plot_quantifier_coeff_var():\n",
    "    plt.figure(figsize=(12, 8))\n",
    "    bar_width = 0.2\n",
    "    index = np.arange(len(criteria))\n",
    "    \n",
    "    criteria_names = list(criteria.keys())\n",
    "    \n",
    "    exp_data = []\n",
    "    for criterion in criteria_names:\n",
    "        exp_data.append(mean_coef_variations[criterion])\n",
    "    \n",
    "    plt.bar(index , exp_data, bar_width, color=\"blue\", capsize=5)\n",
    "    \n",
    "    plt.xlabel(\"Criteria\", fontsize=16)\n",
    "    plt.ylabel(\"Mean Coefficient of Variation\", fontsize=16)\n",
    "    plt.xticks(index + bar_width / 2, criteria_names, rotation=90, fontsize=14)\n",
    "    plt.tight_layout()  # Adjust subplot parameters to fit the labels\n",
    "    plt.savefig(quantifie_coef_var_plot_output_path)\n",
    "    plt.show()"
   ]
  },
  {
   "cell_type": "code",
   "execution_count": null,
   "id": "a45f5147-c6e9-4d0c-8762-0447638e92b8",
   "metadata": {},
   "outputs": [],
   "source": [
    "plot_quantifier_coeff_var()"
   ]
  },
  {
   "cell_type": "markdown",
   "id": "5afc975f-dde4-40e3-97fb-525cef580b3d",
   "metadata": {},
   "source": [
    "# Checkpoint 5: Generate Adversarial Samples"
   ]
  },
  {
   "cell_type": "code",
   "execution_count": null,
   "id": "66377720-2bfa-46e3-987f-771b248c7f67",
   "metadata": {},
   "outputs": [],
   "source": [
    "original_test_cases = defaultdict(lambda: defaultdict(str)) #test_cases[agent][gameid]\n",
    "adversarial_test_cases = defaultdict(lambda: defaultdict(str))\n",
    "\n",
    "for agent in agents:\n",
    "    log_path = root_path + '/' + agent\n",
    "\n",
    "    for prefix in os.listdir(log_path):\n",
    "        if prefix == '.DS_Store':\n",
    "            continue\n",
    "        for file_name in os.listdir(log_path+\"/\"+prefix):\n",
    "            gameid = prefix+\"_\"+file_name\n",
    "            \n",
    "            if file_name.split('.')[-1]=='json':\n",
    "                original_test_case = read_task_output_file(log_path+\"/\"+prefix+'/'+file_name)\n",
    "    \n",
    "                adversarial_test_case = create_adversarial_samples(original_test_case)\n",
    "\n",
    "                original_test_cases[agent][gameid] = original_test_case\n",
    "                adversarial_test_cases[agent][gameid] = adversarial_test_case"
   ]
  },
  {
   "cell_type": "code",
   "execution_count": null,
   "id": "70268664-cb40-48d8-948a-177e70131404",
   "metadata": {},
   "outputs": [],
   "source": [
    "with open(original_examples_output_path, \"w\") as file:\n",
    "    json.dump(original_test_cases, file, indent=2)\n",
    "    \n",
    "with open(adversarial_examples_output_path, \"w\") as file:\n",
    "    json.dump(adversarial_test_cases,file,indent=2) "
   ]
  },
  {
   "cell_type": "markdown",
   "id": "c5c9a443-0fd0-406d-86b3-688d954eceed",
   "metadata": {},
   "source": [
    "# Checkpoint 6: Run QuantifierAgent on Adversarial Samples"
   ]
  },
  {
   "cell_type": "code",
   "execution_count": null,
   "id": "3872d62b-f724-4838-b568-77a8f434ef74",
   "metadata": {},
   "outputs": [],
   "source": [
    "with open(original_examples_output_path) as file:\n",
    "    original_test_cases = json.load(file)\n",
    "    \n",
    "with open(adversarial_examples_output_path) as file:\n",
    "    adversarial_test_cases = json.load(file)"
   ]
  },
  {
   "cell_type": "code",
   "execution_count": null,
   "id": "7a55243a-9134-4c19-8bf3-2e116bbeb54a",
   "metadata": {},
   "outputs": [],
   "source": [
    "def run_quantifier_on_adversarial_samples():\n",
    "    quantifier_message_base = \"\"\"You are a helpful assistant. You quantify the output of different tasks based on the given criteria.\n",
    "    The criterion is given in a dictionary format where each key is a dintinct criteria.\n",
    "    The value of each key is a dictionary as follows {\"description\": criteria description , \"accepted_values\": possible accepted inputs for this key}\n",
    "    You are going to quantify each of the crieria for a given task based on the task decription.\n",
    "    Return a dictionary where the keys are the criteria and the values are the assessed performance based on accepted values for each criteria.\n",
    "    Return only the dictionary as a json format string and nothing else.\"\"\"\n",
    "\n",
    "    quantifier = autogen.AssistantAgent(\n",
    "        name = \"quantifier\",\n",
    "        llm_config = {\"config_list\": config_list},\n",
    "        system_message = quantifier_message_base)\n",
    "\n",
    "    outcome = {}\n",
    "\n",
    "    for agent in agents:\n",
    "        outcome = defaultdict(list) # outcome[gameid]\n",
    "    \n",
    "        for gameid in original_test_cases[agent]:\n",
    "            original_test_case = original_test_cases[agent][gameid]\n",
    "            adversarial_test_case = adversarial_test_cases[agent][gameid]\n",
    "    \n",
    "            original_result = {}\n",
    "            adversarial_result = {}\n",
    "\n",
    "            try:\n",
    "                for crit_dict in crits:\n",
    "                    quantifier_user = autogen.UserProxyAgent(\n",
    "                        name = \"quantifier_user\",\n",
    "                        max_consecutive_auto_reply = 0,  # terminate without auto-reply\n",
    "                        human_input_mode = \"NEVER\",\n",
    "                    )\n",
    "                    cq_results = quantifier_user.initiate_chat(quantifier, message = sys_msg + \\\n",
    "                                                    \"Evaluation dictionary: \" + str(crit_dict) + \"\\n\" + \\\n",
    "                                                    \"actual test case to evaluate: \" + str(original_test_case))\n",
    "                    quantified_result = quantifier_user.last_message()[\"content\"]\n",
    "        \n",
    "                    original_output = json.loads(quantified_result)\n",
    "        \n",
    "                    for entry in original_output:\n",
    "                        original_result[entry.strip()] = original_output[entry]\n",
    "        \n",
    "                    quantifier_user = autogen.UserProxyAgent(\n",
    "                        name = \"quantifier_user\",\n",
    "                        max_consecutive_auto_reply = 0,  # terminate without auto-reply\n",
    "                        human_input_mode = \"NEVER\",\n",
    "                    )\n",
    "                    cq_results = quantifier_user.initiate_chat(quantifier, message = sys_msg + \\\n",
    "                                                    \"Evaluation dictionary: \" + str(crit_dict) + \"\\n\" + \\\n",
    "                                                    \"actual test case to evaluate: \" + str(adversarial_test_case))\n",
    "                    quantified_result = quantifier_user.last_message()[\"content\"]\n",
    "        \n",
    "                    adversarial_output = json.loads(quantified_result)\n",
    "        \n",
    "                    for entry in adversarial_output:\n",
    "                        adversarial_result[entry.strip()] = adversarial_output[entry]\n",
    "                            \n",
    "                outcome[gameid] = [original_result, adversarial_result]\n",
    "\n",
    "            except:\n",
    "                # encountered error like length or content filtering\n",
    "                pass\n",
    "                        \n",
    "        # store the evaluated problems\n",
    "        with open(adversarial_testing_evaluated_results_output_path + agent + \".json\",\"w\") as file:\n",
    "            json.dump(outcome,file,indent=2) "
   ]
  },
  {
   "cell_type": "code",
   "execution_count": null,
   "id": "09ff9380-2b10-4aca-9c49-c155afa94cbd",
   "metadata": {},
   "outputs": [],
   "source": [
    "run_quantifier_on_adversarial_samples()"
   ]
  },
  {
   "cell_type": "markdown",
   "id": "9b82ee87-8159-4df9-9baa-333936350158",
   "metadata": {},
   "source": [
    "# Checkpoint 7: Plot QuantifierAgent Adversarial Testing Performance"
   ]
  },
  {
   "cell_type": "code",
   "execution_count": 11,
   "id": "e98ca0b5-c234-4a26-9856-39740b72e68f",
   "metadata": {},
   "outputs": [],
   "source": [
    "# load data\n",
    "evaluated_outcomes = {} # [agent]\n",
    "\n",
    "for agent in agents:\n",
    "    with open(adversarial_testing_evaluated_results_output_path + agent + \".json\") as file:\n",
    "        evaluated_outcomes[agent] = json.load(file)\n",
    "\n",
    "quantified_scores = defaultdict(lambda: defaultdict(lambda: defaultdict(list))) #[criterion][agent][original/adversarial] => list of scores\n",
    "\n",
    "for agent in evaluated_outcomes:\n",
    "    for gameid in evaluated_outcomes[agent]:\n",
    "        original_quantified, adversarial_quantified = evaluated_outcomes[agent][gameid]\n",
    "\n",
    "        for criterion in criteria:\n",
    "            if isinstance(original_quantified[criterion], dict):\n",
    "                original_quantified[criterion] = original_quantified[criterion]['accepted_values']\n",
    "\n",
    "            if isinstance(adversarial_quantified[criterion], dict):\n",
    "                adversarial_quantified[criterion] = adversarial_quantified[criterion]['accepted_values']\n",
    "\n",
    "            try:\n",
    "                quantified_scores[criterion][agent][\"original\"].append(level2score[criterion][original_quantified[criterion]])\n",
    "                quantified_scores[criterion][agent][\"adversarial\"].append(level2score[criterion][adversarial_quantified[criterion]])\n",
    "            except:\n",
    "                pass\n",
    "\n",
    "averages = defaultdict(lambda: defaultdict(lambda: defaultdict(float))) \n",
    "\n",
    "for criterion in quantified_scores:\n",
    "    for agent in quantified_scores[criterion]:\n",
    "        averages[criterion][agent][\"original\"] = statistics.mean(quantified_scores[criterion][agent][\"original\"])\n",
    "        averages[criterion][agent][\"adversarial\"] = statistics.mean(quantified_scores[criterion][agent][\"adversarial\"])"
   ]
  },
  {
   "cell_type": "code",
   "execution_count": 16,
   "id": "44bae67b-ec37-45c1-b684-ae5b6eaa5978",
   "metadata": {},
   "outputs": [],
   "source": [
    "def plot_quantifier_adversarial_testing():\n",
    "    plt.figure(figsize=(12, 8))\n",
    "    bar_width = 0.12\n",
    "    index = np.arange(len(criteria))\n",
    "    \n",
    "    criteria_names = list(criteria.keys())\n",
    "\n",
    "    data = []\n",
    "    labels = []\n",
    "    colors = [\"darkblue\", \"lightblue\", \"darkgreen\", \"lightgreen\", \"deeppink\", \"lightpink\"]\n",
    "\n",
    "    for agent in agents:\n",
    "        original = []\n",
    "        adversarial = []\n",
    "\n",
    "        for criterion in criteria_names:\n",
    "            original.append(averages[criterion][agent]['original'])\n",
    "            adversarial.append(averages[criterion][agent]['adversarial'])\n",
    "\n",
    "        data.append(original)\n",
    "        data.append(adversarial)\n",
    "\n",
    "        labels.append(agent)\n",
    "        labels.append(agent + \" Disturbed\")\n",
    "\n",
    "    for idx, bar_data in enumerate(data):\n",
    "        plt.bar(index + bar_width * idx, bar_data, bar_width, label=labels[idx], color=colors[idx], capsize=5)\n",
    "    \n",
    "    plt.xlabel(\"Criteria\", fontsize=16)\n",
    "    plt.ylabel(\"Average Quantified Score\", fontsize=16)\n",
    "    plt.xticks(index + bar_width / 2, criteria_names, rotation=90, fontsize=10)\n",
    "    plt.legend(loc=\"upper right\", fontsize=8)  # Adjust legend placement and ncol\n",
    "    plt.tight_layout()  # Adjust subplot parameters to fit the labels\n",
    "    plt.savefig(quantifier_adversarial_testing_plot_output_path)\n",
    "    plt.show()\n"
   ]
  },
  {
   "cell_type": "code",
   "execution_count": 17,
   "id": "5c6b13fb-a64a-4e5b-b0f5-f04e6bebeeb6",
   "metadata": {},
   "outputs": [
    {
     "data": {
      "image/png": "[encoded data removed]",
      "text/plain": [
       "<Figure size 1200x800 with 1 Axes>"
      ]
     },
     "metadata": {},
     "output_type": "display_data"
    }
   ],
   "source": [
    "plot_quantifier_adversarial_testing()"
   ]
  },
  {
   "cell_type": "code",
   "execution_count": null,
   "id": "a7a2aca7-a716-483b-9150-7d8d4c73bb17",
   "metadata": {},
   "outputs": [],
   "source": []
  }
 ],
 "metadata": {
  "kernelspec": {
   "display_name": "Python 3 (ipykernel)",
   "language": "python",
   "name": "python3"
  },
  "language_info": {
   "codemirror_mode": {
    "name": "ipython",
    "version": 3
   },
   "file_extension": ".py",
   "mimetype": "text/x-python",
   "name": "python",
   "nbconvert_exporter": "python",
   "pygments_lexer": "ipython3",
   "version": "3.11.7"
  }
 },
 "nbformat": 4,
 "nbformat_minor": 5
}
